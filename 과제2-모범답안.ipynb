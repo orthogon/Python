{
 "cells": [
  {
   "cell_type": "markdown",
   "id": "c7d684d9",
   "metadata": {},
   "source": [
    "## 과제 2 모범 답안"
   ]
  },
  {
   "cell_type": "code",
   "execution_count": 1,
   "id": "9041b58f",
   "metadata": {},
   "outputs": [
    {
     "name": "stdout",
     "output_type": "stream",
     "text": [
      "[2차방정식의 실수 해 계산 프로그램]\n",
      "============================\n",
      "x에 대한 2차 방정식 ax^2 + bx + c = 0에서\n",
      "상수 a, b, c 값을 차례로 입력하세요:1.5, 1.5, -2.5\n",
      "입력한 2차방정식: 1.5x^2 + 1.5x - 2.5 = 0은\n",
      "----------------------------\n",
      "2개의 실수 해가 있습니다: x = 0.8844373104863458 , x = -1.8844373104863459\n"
     ]
    }
   ],
   "source": [
    "# 프로그램 제목 출력\n",
    "print('[2차방정식의 실수 해 계산 프로그램]')\n",
    "print('============================')\n",
    "\n",
    "# 안내문 출력\n",
    "print('x에 대한 2차 방정식 ax^2 + bx + c = 0에서')\n",
    "\n",
    "# a,b,c 값 입력 - 각 입력을 ','로 구분해서 받고 잘라 실수로 변환해서 저장 \n",
    "# a,b,c 값을 정수로 한정할 경우 float 대신 int 사용\n",
    "a, b, c = map(float, input('상수 a, b, c 값을 차례로 입력하세요:').split(','))\n",
    "\n",
    "if a == 0:   # a = 0 이면 2차 방정식이 아니므로 예외 처리\n",
    "    print('>>> a = 0이면 2차 방정식이 아니므로 해를 계산하지 않습니다')\n",
    "\n",
    "else: # a가 0이 아닌 경우 진행\n",
    "\n",
    "    # 입력받은 2차방정식 출력\n",
    "    print('입력한 2차방정식:', str(a)+'x^2', end='') # 한줄 띄지 않음    \n",
    "\n",
    "    if b > 0:    # b가 양수일 경우 + 부호 붙임, \n",
    "        print(' + '+str(b)+'x', end='')\n",
    "    elif b < 0:  # b가 음수일 경우 - 부호 붙임, 대신 b 값은 양수로 바꾸어 출력 \n",
    "        print(' - '+str(-b)+'x', end='')\n",
    "                 # b = 0 이면 출력 안함    \n",
    "\n",
    "    if c > 0:    # c가 양수일 경우 + 부호 붙임, \n",
    "        print(' + '+str(c), end='')\n",
    "    elif c < 0:  # c가 음수일 경우 - 부호 붙임, 대신 c 값은 양수로 바꾸어 출력\n",
    "        print(' - '+str(-c), end='')\n",
    "                 # c = 0 이면 출력 안함    \n",
    "\n",
    "    # 마지막 문구를 붙여서 출력        \n",
    "    print(' = 0은') \n",
    "    print('----------------------------')\n",
    "    \n",
    "    # 판별식 계산\n",
    "    D = b**2 - 4*a*c \n",
    "    \n",
    "    # 판별식 조건에 따른 해 계산 및 출력\n",
    "    if D > 0:     # 2개의 해 조건\n",
    "        x1 = (-b + D**(0.5)) / (2*a)  # 첫번째 해\n",
    "        x2 = (-b - D**(0.5)) / (2*a)  # 두번째 해\n",
    "        print('2개의 실수 해가 있습니다: x =', x1, ', x =', x2) # 해 출력\n",
    "    elif D == 0:  # 1개의 해 조건\n",
    "        x = -b / (2*a)   # 해 계산\n",
    "        print('1개의 실수 해가 있습니다: x =', x) # 해 출력\n",
    "    else:         # 실수 해가 없는 조건\n",
    "        print('실수 해가 존재하지 않습니다') "
   ]
  },
  {
   "cell_type": "markdown",
   "id": "cf611e71",
   "metadata": {},
   "source": [
    "### 모범 답안과 자신의 답을 비교해가며 복습하세요. "
   ]
  }
 ],
 "metadata": {
  "kernelspec": {
   "display_name": "Python 3 (ipykernel)",
   "language": "python",
   "name": "python3"
  },
  "language_info": {
   "codemirror_mode": {
    "name": "ipython",
    "version": 3
   },
   "file_extension": ".py",
   "mimetype": "text/x-python",
   "name": "python",
   "nbconvert_exporter": "python",
   "pygments_lexer": "ipython3",
   "version": "3.9.8"
  }
 },
 "nbformat": 4,
 "nbformat_minor": 5
}
